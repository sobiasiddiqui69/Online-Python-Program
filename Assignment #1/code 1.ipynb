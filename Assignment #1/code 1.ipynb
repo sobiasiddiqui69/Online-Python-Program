{
 "cells": [
  {
   "cell_type": "code",
   "execution_count": null,
   "id": "ea2c8c2d",
   "metadata": {},
   "outputs": [],
   "source": []
  },
  {
   "cell_type": "code",
   "execution_count": 1,
   "id": "e0deb1ba",
   "metadata": {},
   "outputs": [
    {
     "name": "stdout",
     "output_type": "stream",
     "text": [
      "Twinkle,twinkle,little star,  \n",
      "\tHow I wonder what you are!  \n",
      "\t\tUp above the world so high,  \n",
      "\t\tLike a diamond in the sky.   \n",
      "Twinkle,twinkle,little star,  \n",
      "\tHow I wonder what you are\n"
     ]
    }
   ],
   "source": [
    "print(\"Twinkle,twinkle,little star,  \\n\\tHow I wonder what you are!  \\n\\t\\tUp above the world so high,  \\n\\t\\tLike a diamond in the sky.   \\nTwinkle,twinkle,little star,  \\n\\tHow I wonder what you are\")"
   ]
  },
  {
   "cell_type": "code",
   "execution_count": null,
   "id": "2e92a387",
   "metadata": {},
   "outputs": [],
   "source": []
  }
 ],
 "metadata": {
  "kernelspec": {
   "display_name": "Python 3 (ipykernel)",
   "language": "python",
   "name": "python3"
  },
  "language_info": {
   "codemirror_mode": {
    "name": "ipython",
    "version": 3
   },
   "file_extension": ".py",
   "mimetype": "text/x-python",
   "name": "python",
   "nbconvert_exporter": "python",
   "pygments_lexer": "ipython3",
   "version": "3.9.7"
  }
 },
 "nbformat": 4,
 "nbformat_minor": 5
}
